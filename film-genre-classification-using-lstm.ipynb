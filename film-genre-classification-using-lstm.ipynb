{
 "cells": [
  {
   "cell_type": "markdown",
   "id": "99d3a958",
   "metadata": {
    "papermill": {
     "duration": 0.025552,
     "end_time": "2021-12-31T22:52:46.752038",
     "exception": false,
     "start_time": "2021-12-31T22:52:46.726486",
     "status": "completed"
    },
    "tags": []
   },
   "source": [
    "# 📥 Importing Libraries¶"
   ]
  },
  {
   "cell_type": "code",
   "execution_count": 1,
   "id": "897e5f15",
   "metadata": {
    "execution": {
     "iopub.execute_input": "2021-12-31T22:52:46.806903Z",
     "iopub.status.busy": "2021-12-31T22:52:46.805700Z",
     "iopub.status.idle": "2021-12-31T22:52:53.705909Z",
     "shell.execute_reply": "2021-12-31T22:52:53.705201Z",
     "shell.execute_reply.started": "2021-12-31T22:08:58.357423Z"
    },
    "papermill": {
     "duration": 6.927591,
     "end_time": "2021-12-31T22:52:53.706108",
     "exception": false,
     "start_time": "2021-12-31T22:52:46.778517",
     "status": "completed"
    },
    "tags": []
   },
   "outputs": [
    {
     "name": "stderr",
     "output_type": "stream",
     "text": [
      "2021-12-31 22:52:49.234402: W tensorflow/stream_executor/platform/default/dso_loader.cc:60] Could not load dynamic library 'libcudart.so.11.0'; dlerror: libcudart.so.11.0: cannot open shared object file: No such file or directory; LD_LIBRARY_PATH: /opt/conda/lib\n",
      "2021-12-31 22:52:49.234513: I tensorflow/stream_executor/cuda/cudart_stub.cc:29] Ignore above cudart dlerror if you do not have a GPU set up on your machine.\n"
     ]
    }
   ],
   "source": [
    "import re\n",
    "import string\n",
    "import nltk\n",
    "import numpy as np\n",
    "import pandas as pd\n",
    "import seaborn as sns\n",
    "import matplotlib.pyplot as plt\n",
    "from wordcloud import WordCloud\n",
    "from collections import Counter\n",
    "from sklearn.model_selection import train_test_split\n",
    "from tensorflow.keras.preprocessing.sequence import pad_sequences\n",
    "from tensorflow.keras.preprocessing.text import Tokenizer\n",
    "from tensorflow.keras.models import Sequential\n",
    "from tensorflow.keras.layers import Embedding, LSTM, Dense, Dropout, SpatialDropout1D\n",
    "from tensorflow.keras.callbacks import Callback, EarlyStopping"
   ]
  },
  {
   "cell_type": "markdown",
   "id": "eb143e62",
   "metadata": {
    "papermill": {
     "duration": 0.023666,
     "end_time": "2021-12-31T22:52:53.754380",
     "exception": false,
     "start_time": "2021-12-31T22:52:53.730714",
     "status": "completed"
    },
    "tags": []
   },
   "source": [
    "# 🗃️ Load Dataset\n"
   ]
  },
  {
   "cell_type": "code",
   "execution_count": 2,
   "id": "c32e0467",
   "metadata": {
    "execution": {
     "iopub.execute_input": "2021-12-31T22:52:53.809304Z",
     "iopub.status.busy": "2021-12-31T22:52:53.808605Z",
     "iopub.status.idle": "2021-12-31T22:52:55.593802Z",
     "shell.execute_reply": "2021-12-31T22:52:55.593117Z",
     "shell.execute_reply.started": "2021-12-31T22:08:58.399918Z"
    },
    "papermill": {
     "duration": 1.815013,
     "end_time": "2021-12-31T22:52:55.593958",
     "exception": false,
     "start_time": "2021-12-31T22:52:53.778945",
     "status": "completed"
    },
    "tags": []
   },
   "outputs": [
    {
     "data": {
      "text/html": [
       "<div>\n",
       "<style scoped>\n",
       "    .dataframe tbody tr th:only-of-type {\n",
       "        vertical-align: middle;\n",
       "    }\n",
       "\n",
       "    .dataframe tbody tr th {\n",
       "        vertical-align: top;\n",
       "    }\n",
       "\n",
       "    .dataframe thead th {\n",
       "        text-align: right;\n",
       "    }\n",
       "</style>\n",
       "<table border=\"1\" class=\"dataframe\">\n",
       "  <thead>\n",
       "    <tr style=\"text-align: right;\">\n",
       "      <th></th>\n",
       "      <th>id</th>\n",
       "      <th>title</th>\n",
       "      <th>genre</th>\n",
       "      <th>description</th>\n",
       "    </tr>\n",
       "  </thead>\n",
       "  <tbody>\n",
       "    <tr>\n",
       "      <th>0</th>\n",
       "      <td>1</td>\n",
       "      <td>Oscar et la dame rose (2009)</td>\n",
       "      <td>drama</td>\n",
       "      <td>Listening in to a conversation between his do...</td>\n",
       "    </tr>\n",
       "    <tr>\n",
       "      <th>1</th>\n",
       "      <td>2</td>\n",
       "      <td>Cupid (1997)</td>\n",
       "      <td>thriller</td>\n",
       "      <td>A brother and sister with a past incestuous r...</td>\n",
       "    </tr>\n",
       "    <tr>\n",
       "      <th>2</th>\n",
       "      <td>3</td>\n",
       "      <td>Young, Wild and Wonderful (1980)</td>\n",
       "      <td>adult</td>\n",
       "      <td>As the bus empties the students for their fie...</td>\n",
       "    </tr>\n",
       "    <tr>\n",
       "      <th>3</th>\n",
       "      <td>4</td>\n",
       "      <td>The Secret Sin (1915)</td>\n",
       "      <td>drama</td>\n",
       "      <td>To help their unemployed father make ends mee...</td>\n",
       "    </tr>\n",
       "    <tr>\n",
       "      <th>4</th>\n",
       "      <td>5</td>\n",
       "      <td>The Unrecovered (2007)</td>\n",
       "      <td>drama</td>\n",
       "      <td>The film's title refers not only to the un-re...</td>\n",
       "    </tr>\n",
       "  </tbody>\n",
       "</table>\n",
       "</div>"
      ],
      "text/plain": [
       "   id                               title       genre  \\\n",
       "0   1       Oscar et la dame rose (2009)       drama    \n",
       "1   2                       Cupid (1997)    thriller    \n",
       "2   3   Young, Wild and Wonderful (1980)       adult    \n",
       "3   4              The Secret Sin (1915)       drama    \n",
       "4   5             The Unrecovered (2007)       drama    \n",
       "\n",
       "                                         description  \n",
       "0   Listening in to a conversation between his do...  \n",
       "1   A brother and sister with a past incestuous r...  \n",
       "2   As the bus empties the students for their fie...  \n",
       "3   To help their unemployed father make ends mee...  \n",
       "4   The film's title refers not only to the un-re...  "
      ]
     },
     "execution_count": 2,
     "metadata": {},
     "output_type": "execute_result"
    }
   ],
   "source": [
    "train_df = pd.read_csv('../input/genre-classification-dataset-imdb/Genre Classification Dataset/train_data.txt', sep=\":::\", header=None, engine='python')\n",
    "test_df = pd.read_csv('../input/genre-classification-dataset-imdb/Genre Classification Dataset/test_data_solution.txt', sep=\":::\", header=None, engine='python')\n",
    "train_df.columns=['id','title','genre','description']\n",
    "test_df.columns=['id','title','genre','description']\n",
    "train_df.head()"
   ]
  },
  {
   "cell_type": "code",
   "execution_count": 3,
   "id": "071066bb",
   "metadata": {
    "execution": {
     "iopub.execute_input": "2021-12-31T22:52:55.654098Z",
     "iopub.status.busy": "2021-12-31T22:52:55.653374Z",
     "iopub.status.idle": "2021-12-31T22:52:55.693913Z",
     "shell.execute_reply": "2021-12-31T22:52:55.694389Z",
     "shell.execute_reply.started": "2021-12-31T22:08:59.690989Z"
    },
    "papermill": {
     "duration": 0.075816,
     "end_time": "2021-12-31T22:52:55.694585",
     "exception": false,
     "start_time": "2021-12-31T22:52:55.618769",
     "status": "completed"
    },
    "tags": []
   },
   "outputs": [
    {
     "name": "stdout",
     "output_type": "stream",
     "text": [
      "<class 'pandas.core.frame.DataFrame'>\n",
      "RangeIndex: 54214 entries, 0 to 54213\n",
      "Data columns (total 4 columns):\n",
      " #   Column       Non-Null Count  Dtype \n",
      "---  ------       --------------  ----- \n",
      " 0   id           54214 non-null  int64 \n",
      " 1   title        54214 non-null  object\n",
      " 2   genre        54214 non-null  object\n",
      " 3   description  54214 non-null  object\n",
      "dtypes: int64(1), object(3)\n",
      "memory usage: 1.7+ MB\n"
     ]
    }
   ],
   "source": [
    "train_df.info()"
   ]
  },
  {
   "cell_type": "code",
   "execution_count": 4,
   "id": "04f66e20",
   "metadata": {
    "execution": {
     "iopub.execute_input": "2021-12-31T22:52:55.770882Z",
     "iopub.status.busy": "2021-12-31T22:52:55.770180Z",
     "iopub.status.idle": "2021-12-31T22:52:55.776817Z",
     "shell.execute_reply": "2021-12-31T22:52:55.777270Z",
     "shell.execute_reply.started": "2021-12-31T22:08:59.729101Z"
    },
    "papermill": {
     "duration": 0.056971,
     "end_time": "2021-12-31T22:52:55.777456",
     "exception": false,
     "start_time": "2021-12-31T22:52:55.720485",
     "status": "completed"
    },
    "tags": []
   },
   "outputs": [
    {
     "data": {
      "text/plain": [
       "id             0\n",
       "title          0\n",
       "genre          0\n",
       "description    0\n",
       "dtype: int64"
      ]
     },
     "execution_count": 4,
     "metadata": {},
     "output_type": "execute_result"
    }
   ],
   "source": [
    "train_df.isnull().sum()"
   ]
  },
  {
   "cell_type": "markdown",
   "id": "70b54d49",
   "metadata": {
    "papermill": {
     "duration": 0.024505,
     "end_time": "2021-12-31T22:52:55.827012",
     "exception": false,
     "start_time": "2021-12-31T22:52:55.802507",
     "status": "completed"
    },
    "tags": []
   },
   "source": [
    "# 🔥 EDA & Visualization"
   ]
  },
  {
   "cell_type": "code",
   "execution_count": 5,
   "id": "c16acbec",
   "metadata": {
    "execution": {
     "iopub.execute_input": "2021-12-31T22:52:55.920994Z",
     "iopub.status.busy": "2021-12-31T22:52:55.879505Z",
     "iopub.status.idle": "2021-12-31T22:52:56.395694Z",
     "shell.execute_reply": "2021-12-31T22:52:56.395120Z",
     "shell.execute_reply.started": "2021-12-31T22:08:59.763073Z"
    },
    "papermill": {
     "duration": 0.544117,
     "end_time": "2021-12-31T22:52:56.395875",
     "exception": false,
     "start_time": "2021-12-31T22:52:55.851758",
     "status": "completed"
    },
    "tags": []
   },
   "outputs": [
    {
     "data": {
      "image/png": "[encoded data removed]",
      "text/plain": [
       "<Figure size 864x576 with 1 Axes>"
      ]
     },
     "metadata": {
      "needs_background": "light"
     },
     "output_type": "display_data"
    }
   ],
   "source": [
    "plt.figure(figsize=(12,8))\n",
    "counts = train_df.genre.value_counts()\n",
    "sns.barplot(x=counts.index, y=counts)\n",
    "plt.xlabel('Genre')\n",
    "plt.ylabel('Count')\n",
    "plt.xticks(rotation=90);"
   ]
  },
  {
   "cell_type": "code",
   "execution_count": 6,
   "id": "a9b10c63",
   "metadata": {
    "execution": {
     "iopub.execute_input": "2021-12-31T22:52:56.463944Z",
     "iopub.status.busy": "2021-12-31T22:52:56.463235Z",
     "iopub.status.idle": "2021-12-31T22:52:57.005223Z",
     "shell.execute_reply": "2021-12-31T22:52:57.005736Z",
     "shell.execute_reply.started": "2021-12-31T22:09:00.323462Z"
    },
    "papermill": {
     "duration": 0.583616,
     "end_time": "2021-12-31T22:52:57.005914",
     "exception": false,
     "start_time": "2021-12-31T22:52:56.422298",
     "status": "completed"
    },
    "tags": []
   },
   "outputs": [
    {
     "data": {
      "image/png": "[encoded data removed]",
      "text/plain": [
       "<Figure size 936x576 with 1 Axes>"
      ]
     },
     "metadata": {
      "needs_background": "light"
     },
     "output_type": "display_data"
    }
   ],
   "source": [
    "plt.figure(figsize=(13,8))\n",
    "\n",
    "sns.set(style=\"darkgrid\")\n",
    "sns.set_color_codes(\"pastel\")\n",
    "train_df.genre.value_counts().plot.barh()\n",
    "sns.despine(left=True, bottom=True)\n",
    "\n",
    "plt.tight_layout()\n",
    "plt.show()"
   ]
  },
  {
   "cell_type": "code",
   "execution_count": 7,
   "id": "82e371e3",
   "metadata": {
    "execution": {
     "iopub.execute_input": "2021-12-31T22:52:57.071977Z",
     "iopub.status.busy": "2021-12-31T22:52:57.068223Z",
     "iopub.status.idle": "2021-12-31T22:52:57.075199Z",
     "shell.execute_reply": "2021-12-31T22:52:57.075695Z",
     "shell.execute_reply.started": "2021-12-31T22:09:00.761282Z"
    },
    "papermill": {
     "duration": 0.042403,
     "end_time": "2021-12-31T22:52:57.075875",
     "exception": false,
     "start_time": "2021-12-31T22:52:57.033472",
     "status": "completed"
    },
    "tags": []
   },
   "outputs": [
    {
     "data": {
      "text/html": [
       "<div>\n",
       "<style scoped>\n",
       "    .dataframe tbody tr th:only-of-type {\n",
       "        vertical-align: middle;\n",
       "    }\n",
       "\n",
       "    .dataframe tbody tr th {\n",
       "        vertical-align: top;\n",
       "    }\n",
       "\n",
       "    .dataframe thead th {\n",
       "        text-align: right;\n",
       "    }\n",
       "</style>\n",
       "<table border=\"1\" class=\"dataframe\">\n",
       "  <thead>\n",
       "    <tr style=\"text-align: right;\">\n",
       "      <th></th>\n",
       "      <th>id</th>\n",
       "      <th>title</th>\n",
       "      <th>genre</th>\n",
       "      <th>description</th>\n",
       "    </tr>\n",
       "  </thead>\n",
       "  <tbody>\n",
       "    <tr>\n",
       "      <th>0</th>\n",
       "      <td>1</td>\n",
       "      <td>Oscar et la dame rose (2009)</td>\n",
       "      <td>drama</td>\n",
       "      <td>Listening in to a conversation between his do...</td>\n",
       "    </tr>\n",
       "    <tr>\n",
       "      <th>1</th>\n",
       "      <td>2</td>\n",
       "      <td>Cupid (1997)</td>\n",
       "      <td>thriller</td>\n",
       "      <td>A brother and sister with a past incestuous r...</td>\n",
       "    </tr>\n",
       "    <tr>\n",
       "      <th>2</th>\n",
       "      <td>3</td>\n",
       "      <td>Young, Wild and Wonderful (1980)</td>\n",
       "      <td>adult</td>\n",
       "      <td>As the bus empties the students for their fie...</td>\n",
       "    </tr>\n",
       "    <tr>\n",
       "      <th>3</th>\n",
       "      <td>4</td>\n",
       "      <td>The Secret Sin (1915)</td>\n",
       "      <td>drama</td>\n",
       "      <td>To help their unemployed father make ends mee...</td>\n",
       "    </tr>\n",
       "    <tr>\n",
       "      <th>4</th>\n",
       "      <td>5</td>\n",
       "      <td>The Unrecovered (2007)</td>\n",
       "      <td>drama</td>\n",
       "      <td>The film's title refers not only to the un-re...</td>\n",
       "    </tr>\n",
       "  </tbody>\n",
       "</table>\n",
       "</div>"
      ],
      "text/plain": [
       "   id                               title       genre  \\\n",
       "0   1       Oscar et la dame rose (2009)       drama    \n",
       "1   2                       Cupid (1997)    thriller    \n",
       "2   3   Young, Wild and Wonderful (1980)       adult    \n",
       "3   4              The Secret Sin (1915)       drama    \n",
       "4   5             The Unrecovered (2007)       drama    \n",
       "\n",
       "                                         description  \n",
       "0   Listening in to a conversation between his do...  \n",
       "1   A brother and sister with a past incestuous r...  \n",
       "2   As the bus empties the students for their fie...  \n",
       "3   To help their unemployed father make ends mee...  \n",
       "4   The film's title refers not only to the un-re...  "
      ]
     },
     "execution_count": 7,
     "metadata": {},
     "output_type": "execute_result"
    }
   ],
   "source": [
    "train_df.head()"
   ]
  },
  {
   "cell_type": "code",
   "execution_count": 8,
   "id": "00c38133",
   "metadata": {
    "execution": {
     "iopub.execute_input": "2021-12-31T22:52:57.134656Z",
     "iopub.status.busy": "2021-12-31T22:52:57.134034Z",
     "iopub.status.idle": "2021-12-31T22:52:57.655088Z",
     "shell.execute_reply": "2021-12-31T22:52:57.655594Z",
     "shell.execute_reply.started": "2021-12-31T22:09:00.775282Z"
    },
    "papermill": {
     "duration": 0.552059,
     "end_time": "2021-12-31T22:52:57.655773",
     "exception": false,
     "start_time": "2021-12-31T22:52:57.103714",
     "status": "completed"
    },
    "tags": []
   },
   "outputs": [
    {
     "data": {
      "text/plain": [
       "<AxesSubplot:xlabel='count', ylabel='genre'>"
      ]
     },
     "execution_count": 8,
     "metadata": {},
     "output_type": "execute_result"
    },
    {
     "data": {
      "image/png": "[encoded data removed]",
      "text/plain": [
       "<Figure size 432x288 with 1 Axes>"
      ]
     },
     "metadata": {},
     "output_type": "display_data"
    }
   ],
   "source": [
    "sns.countplot(y='genre',data=train_df)"
   ]
  },
  {
   "cell_type": "code",
   "execution_count": 9,
   "id": "7de92f0e",
   "metadata": {
    "execution": {
     "iopub.execute_input": "2021-12-31T22:52:57.719466Z",
     "iopub.status.busy": "2021-12-31T22:52:57.718831Z",
     "iopub.status.idle": "2021-12-31T22:52:57.762361Z",
     "shell.execute_reply": "2021-12-31T22:52:57.762842Z",
     "shell.execute_reply.started": "2021-12-31T22:09:01.269471Z"
    },
    "papermill": {
     "duration": 0.076366,
     "end_time": "2021-12-31T22:52:57.763014",
     "exception": false,
     "start_time": "2021-12-31T22:52:57.686648",
     "status": "completed"
    },
    "tags": []
   },
   "outputs": [
    {
     "data": {
      "text/html": [
       "<div>\n",
       "<style scoped>\n",
       "    .dataframe tbody tr th:only-of-type {\n",
       "        vertical-align: middle;\n",
       "    }\n",
       "\n",
       "    .dataframe tbody tr th {\n",
       "        vertical-align: top;\n",
       "    }\n",
       "\n",
       "    .dataframe thead th {\n",
       "        text-align: right;\n",
       "    }\n",
       "</style>\n",
       "<table border=\"1\" class=\"dataframe\">\n",
       "  <thead>\n",
       "    <tr style=\"text-align: right;\">\n",
       "      <th></th>\n",
       "      <th>id</th>\n",
       "      <th>title</th>\n",
       "      <th>genre</th>\n",
       "      <th>description</th>\n",
       "      <th>length</th>\n",
       "    </tr>\n",
       "  </thead>\n",
       "  <tbody>\n",
       "    <tr>\n",
       "      <th>0</th>\n",
       "      <td>1</td>\n",
       "      <td>Oscar et la dame rose (2009)</td>\n",
       "      <td>drama</td>\n",
       "      <td>Listening in to a conversation between his do...</td>\n",
       "      <td>546</td>\n",
       "    </tr>\n",
       "    <tr>\n",
       "      <th>1</th>\n",
       "      <td>2</td>\n",
       "      <td>Cupid (1997)</td>\n",
       "      <td>thriller</td>\n",
       "      <td>A brother and sister with a past incestuous r...</td>\n",
       "      <td>184</td>\n",
       "    </tr>\n",
       "    <tr>\n",
       "      <th>2</th>\n",
       "      <td>3</td>\n",
       "      <td>Young, Wild and Wonderful (1980)</td>\n",
       "      <td>adult</td>\n",
       "      <td>As the bus empties the students for their fie...</td>\n",
       "      <td>650</td>\n",
       "    </tr>\n",
       "    <tr>\n",
       "      <th>3</th>\n",
       "      <td>4</td>\n",
       "      <td>The Secret Sin (1915)</td>\n",
       "      <td>drama</td>\n",
       "      <td>To help their unemployed father make ends mee...</td>\n",
       "      <td>1082</td>\n",
       "    </tr>\n",
       "    <tr>\n",
       "      <th>4</th>\n",
       "      <td>5</td>\n",
       "      <td>The Unrecovered (2007)</td>\n",
       "      <td>drama</td>\n",
       "      <td>The film's title refers not only to the un-re...</td>\n",
       "      <td>625</td>\n",
       "    </tr>\n",
       "  </tbody>\n",
       "</table>\n",
       "</div>"
      ],
      "text/plain": [
       "   id                               title       genre  \\\n",
       "0   1       Oscar et la dame rose (2009)       drama    \n",
       "1   2                       Cupid (1997)    thriller    \n",
       "2   3   Young, Wild and Wonderful (1980)       adult    \n",
       "3   4              The Secret Sin (1915)       drama    \n",
       "4   5             The Unrecovered (2007)       drama    \n",
       "\n",
       "                                         description  length  \n",
       "0   Listening in to a conversation between his do...     546  \n",
       "1   A brother and sister with a past incestuous r...     184  \n",
       "2   As the bus empties the students for their fie...     650  \n",
       "3   To help their unemployed father make ends mee...    1082  \n",
       "4   The film's title refers not only to the un-re...     625  "
      ]
     },
     "execution_count": 9,
     "metadata": {},
     "output_type": "execute_result"
    }
   ],
   "source": [
    "train_df['length']=train_df['description'].apply(len)\n",
    "train_df.head()"
   ]
  },
  {
   "cell_type": "code",
   "execution_count": 10,
   "id": "014ae94d",
   "metadata": {
    "execution": {
     "iopub.execute_input": "2021-12-31T22:52:57.826380Z",
     "iopub.status.busy": "2021-12-31T22:52:57.825743Z",
     "iopub.status.idle": "2021-12-31T22:52:58.338233Z",
     "shell.execute_reply": "2021-12-31T22:52:58.337676Z",
     "shell.execute_reply.started": "2021-12-31T22:09:01.316838Z"
    },
    "papermill": {
     "duration": 0.545437,
     "end_time": "2021-12-31T22:52:58.338408",
     "exception": false,
     "start_time": "2021-12-31T22:52:57.792971",
     "status": "completed"
    },
    "tags": []
   },
   "outputs": [
    {
     "data": {
      "text/plain": [
       "<AxesSubplot:ylabel='Frequency'>"
      ]
     },
     "execution_count": 10,
     "metadata": {},
     "output_type": "execute_result"
    },
    {
     "data": {
      "image/png": "[encoded data removed]",
      "text/plain": [
       "<Figure size 432x288 with 1 Axes>"
      ]
     },
     "metadata": {},
     "output_type": "display_data"
    }
   ],
   "source": [
    "train_df['length'].plot(bins=100, kind='hist')"
   ]
  },
  {
   "cell_type": "code",
   "execution_count": 11,
   "id": "031badcc",
   "metadata": {
    "execution": {
     "iopub.execute_input": "2021-12-31T22:52:58.404268Z",
     "iopub.status.busy": "2021-12-31T22:52:58.403664Z",
     "iopub.status.idle": "2021-12-31T22:52:58.425806Z",
     "shell.execute_reply": "2021-12-31T22:52:58.426267Z",
     "shell.execute_reply.started": "2021-12-31T22:09:01.826249Z"
    },
    "papermill": {
     "duration": 0.056818,
     "end_time": "2021-12-31T22:52:58.426447",
     "exception": false,
     "start_time": "2021-12-31T22:52:58.369629",
     "status": "completed"
    },
    "tags": []
   },
   "outputs": [
    {
     "data": {
      "text/html": [
       "<div>\n",
       "<style scoped>\n",
       "    .dataframe tbody tr th:only-of-type {\n",
       "        vertical-align: middle;\n",
       "    }\n",
       "\n",
       "    .dataframe tbody tr th {\n",
       "        vertical-align: top;\n",
       "    }\n",
       "\n",
       "    .dataframe thead th {\n",
       "        text-align: right;\n",
       "    }\n",
       "</style>\n",
       "<table border=\"1\" class=\"dataframe\">\n",
       "  <thead>\n",
       "    <tr style=\"text-align: right;\">\n",
       "      <th></th>\n",
       "      <th>id</th>\n",
       "      <th>length</th>\n",
       "    </tr>\n",
       "  </thead>\n",
       "  <tbody>\n",
       "    <tr>\n",
       "      <th>count</th>\n",
       "      <td>54214.000000</td>\n",
       "      <td>54214.000000</td>\n",
       "    </tr>\n",
       "    <tr>\n",
       "      <th>mean</th>\n",
       "      <td>27107.500000</td>\n",
       "      <td>600.452429</td>\n",
       "    </tr>\n",
       "    <tr>\n",
       "      <th>std</th>\n",
       "      <td>15650.378084</td>\n",
       "      <td>446.026620</td>\n",
       "    </tr>\n",
       "    <tr>\n",
       "      <th>min</th>\n",
       "      <td>1.000000</td>\n",
       "      <td>42.000000</td>\n",
       "    </tr>\n",
       "    <tr>\n",
       "      <th>25%</th>\n",
       "      <td>13554.250000</td>\n",
       "      <td>325.000000</td>\n",
       "    </tr>\n",
       "    <tr>\n",
       "      <th>50%</th>\n",
       "      <td>27107.500000</td>\n",
       "      <td>464.000000</td>\n",
       "    </tr>\n",
       "    <tr>\n",
       "      <th>75%</th>\n",
       "      <td>40660.750000</td>\n",
       "      <td>713.000000</td>\n",
       "    </tr>\n",
       "    <tr>\n",
       "      <th>max</th>\n",
       "      <td>54214.000000</td>\n",
       "      <td>10504.000000</td>\n",
       "    </tr>\n",
       "  </tbody>\n",
       "</table>\n",
       "</div>"
      ],
      "text/plain": [
       "                 id        length\n",
       "count  54214.000000  54214.000000\n",
       "mean   27107.500000    600.452429\n",
       "std    15650.378084    446.026620\n",
       "min        1.000000     42.000000\n",
       "25%    13554.250000    325.000000\n",
       "50%    27107.500000    464.000000\n",
       "75%    40660.750000    713.000000\n",
       "max    54214.000000  10504.000000"
      ]
     },
     "execution_count": 11,
     "metadata": {},
     "output_type": "execute_result"
    }
   ],
   "source": [
    "train_df.describe()"
   ]
  },
  {
   "cell_type": "code",
   "execution_count": 12,
   "id": "e2c0c1f0",
   "metadata": {
    "execution": {
     "iopub.execute_input": "2021-12-31T22:52:58.492057Z",
     "iopub.status.busy": "2021-12-31T22:52:58.491433Z",
     "iopub.status.idle": "2021-12-31T22:52:58.498557Z",
     "shell.execute_reply": "2021-12-31T22:52:58.499114Z",
     "shell.execute_reply.started": "2021-12-31T22:09:01.847962Z"
    },
    "papermill": {
     "duration": 0.041545,
     "end_time": "2021-12-31T22:52:58.499273",
     "exception": false,
     "start_time": "2021-12-31T22:52:58.457728",
     "status": "completed"
    },
    "tags": []
   },
   "outputs": [
    {
     "data": {
      "text/plain": [
       "52224     A buddy film set in the world of fashion.\n",
       "Name: description, dtype: object"
      ]
     },
     "execution_count": 12,
     "metadata": {},
     "output_type": "execute_result"
    }
   ],
   "source": [
    "train_df[train_df['length']==42]['description']"
   ]
  },
  {
   "cell_type": "markdown",
   "id": "576707f1",
   "metadata": {
    "papermill": {
     "duration": 0.031346,
     "end_time": "2021-12-31T22:52:58.561993",
     "exception": false,
     "start_time": "2021-12-31T22:52:58.530647",
     "status": "completed"
    },
    "tags": []
   },
   "source": [
    "# 🧹 Text Cleaning"
   ]
  },
  {
   "cell_type": "code",
   "execution_count": 13,
   "id": "09c8fdd4",
   "metadata": {
    "execution": {
     "iopub.execute_input": "2021-12-31T22:52:58.628478Z",
     "iopub.status.busy": "2021-12-31T22:52:58.627764Z",
     "iopub.status.idle": "2021-12-31T22:52:58.639278Z",
     "shell.execute_reply": "2021-12-31T22:52:58.638724Z",
     "shell.execute_reply.started": "2021-12-31T22:09:01.856966Z"
    },
    "papermill": {
     "duration": 0.045821,
     "end_time": "2021-12-31T22:52:58.639423",
     "exception": false,
     "start_time": "2021-12-31T22:52:58.593602",
     "status": "completed"
    },
    "tags": []
   },
   "outputs": [],
   "source": [
    "def clean_text(text):\n",
    "    text = text.lower()                                  # lower-case all characters\n",
    "    text =  re.sub(r'@\\S+', '',text)                     # remove twitter handles\n",
    "    text =  re.sub(r'http\\S+', '',text)                  # remove urls\n",
    "    text =  re.sub(r'pic.\\S+', '',text) \n",
    "    text =  re.sub(r\"[^a-zA-Z+']\", ' ',text)             # only keeps characters\n",
    "    text = re.sub(r'\\s+[a-zA-Z]\\s+', ' ', text+' ')      # keep words with length>1 only\n",
    "    text = \"\".join([i for i in text if i not in string.punctuation])\n",
    "    words = nltk.tokenize.word_tokenize(text)\n",
    "    stopwords = nltk.corpus.stopwords.words('english')   # remove stopwords\n",
    "    text = \" \".join([i for i in words if i not in stopwords and len(i)>2])\n",
    "    text= re.sub(\"\\s[\\s]+\", \" \",text).strip()            # remove repeated/leading/trailing spaces\n",
    "    return text"
   ]
  },
  {
   "cell_type": "code",
   "execution_count": 14,
   "id": "ae64d631",
   "metadata": {
    "execution": {
     "iopub.execute_input": "2021-12-31T22:52:58.719568Z",
     "iopub.status.busy": "2021-12-31T22:52:58.718885Z",
     "iopub.status.idle": "2021-12-31T22:55:44.173482Z",
     "shell.execute_reply": "2021-12-31T22:55:44.174127Z",
     "shell.execute_reply.started": "2021-12-31T22:09:01.868861Z"
    },
    "papermill": {
     "duration": 165.498705,
     "end_time": "2021-12-31T22:55:44.174323",
     "exception": false,
     "start_time": "2021-12-31T22:52:58.675618",
     "status": "completed"
    },
    "tags": []
   },
   "outputs": [
    {
     "data": {
      "text/html": [
       "<div>\n",
       "<style scoped>\n",
       "    .dataframe tbody tr th:only-of-type {\n",
       "        vertical-align: middle;\n",
       "    }\n",
       "\n",
       "    .dataframe tbody tr th {\n",
       "        vertical-align: top;\n",
       "    }\n",
       "\n",
       "    .dataframe thead th {\n",
       "        text-align: right;\n",
       "    }\n",
       "</style>\n",
       "<table border=\"1\" class=\"dataframe\">\n",
       "  <thead>\n",
       "    <tr style=\"text-align: right;\">\n",
       "      <th></th>\n",
       "      <th>id</th>\n",
       "      <th>title</th>\n",
       "      <th>genre</th>\n",
       "      <th>description</th>\n",
       "      <th>Text_cleaning</th>\n",
       "    </tr>\n",
       "  </thead>\n",
       "  <tbody>\n",
       "    <tr>\n",
       "      <th>0</th>\n",
       "      <td>1</td>\n",
       "      <td>Edgar's Lunch (1998)</td>\n",
       "      <td>thriller</td>\n",
       "      <td>L.R. Brane loves his life - his car, his apar...</td>\n",
       "      <td>brane loves life car apartment job especially ...</td>\n",
       "    </tr>\n",
       "    <tr>\n",
       "      <th>1</th>\n",
       "      <td>2</td>\n",
       "      <td>La guerra de papá (1977)</td>\n",
       "      <td>comedy</td>\n",
       "      <td>Spain, March 1964: Quico is a very naughty ch...</td>\n",
       "      <td>spain march quico naughty child three belongin...</td>\n",
       "    </tr>\n",
       "    <tr>\n",
       "      <th>2</th>\n",
       "      <td>3</td>\n",
       "      <td>Off the Beaten Track (2010)</td>\n",
       "      <td>documentary</td>\n",
       "      <td>One year in the life of Albin and his family ...</td>\n",
       "      <td>one year life albin family shepherds north tra...</td>\n",
       "    </tr>\n",
       "    <tr>\n",
       "      <th>3</th>\n",
       "      <td>4</td>\n",
       "      <td>Meu Amigo Hindu (2015)</td>\n",
       "      <td>drama</td>\n",
       "      <td>His father has died, he hasn't spoken with hi...</td>\n",
       "      <td>father died hasnt spoken brother years serious...</td>\n",
       "    </tr>\n",
       "    <tr>\n",
       "      <th>4</th>\n",
       "      <td>5</td>\n",
       "      <td>Er nu zhai (1955)</td>\n",
       "      <td>drama</td>\n",
       "      <td>Before he was known internationally as a mart...</td>\n",
       "      <td>known internationally martial arts superstar b...</td>\n",
       "    </tr>\n",
       "  </tbody>\n",
       "</table>\n",
       "</div>"
      ],
      "text/plain": [
       "   id                          title          genre  \\\n",
       "0   1          Edgar's Lunch (1998)       thriller    \n",
       "1   2      La guerra de papá (1977)         comedy    \n",
       "2   3   Off the Beaten Track (2010)    documentary    \n",
       "3   4        Meu Amigo Hindu (2015)          drama    \n",
       "4   5             Er nu zhai (1955)          drama    \n",
       "\n",
       "                                         description  \\\n",
       "0   L.R. Brane loves his life - his car, his apar...   \n",
       "1   Spain, March 1964: Quico is a very naughty ch...   \n",
       "2   One year in the life of Albin and his family ...   \n",
       "3   His father has died, he hasn't spoken with hi...   \n",
       "4   Before he was known internationally as a mart...   \n",
       "\n",
       "                                       Text_cleaning  \n",
       "0  brane loves life car apartment job especially ...  \n",
       "1  spain march quico naughty child three belongin...  \n",
       "2  one year life albin family shepherds north tra...  \n",
       "3  father died hasnt spoken brother years serious...  \n",
       "4  known internationally martial arts superstar b...  "
      ]
     },
     "execution_count": 14,
     "metadata": {},
     "output_type": "execute_result"
    }
   ],
   "source": [
    "train_df['Text_cleaning'] = train_df.description.apply(clean_text)\n",
    "test_df['Text_cleaning'] = test_df.description.apply(clean_text)\n",
    "test_df.head()"
   ]
  },
  {
   "cell_type": "code",
   "execution_count": 15,
   "id": "c54b11f9",
   "metadata": {
    "execution": {
     "iopub.execute_input": "2021-12-31T22:55:44.255914Z",
     "iopub.status.busy": "2021-12-31T22:55:44.254929Z",
     "iopub.status.idle": "2021-12-31T22:55:44.302429Z",
     "shell.execute_reply": "2021-12-31T22:55:44.301510Z",
     "shell.execute_reply.started": "2021-12-31T22:11:46.877214Z"
    },
    "papermill": {
     "duration": 0.092557,
     "end_time": "2021-12-31T22:55:44.302641",
     "exception": false,
     "start_time": "2021-12-31T22:55:44.210084",
     "status": "completed"
    },
    "tags": []
   },
   "outputs": [
    {
     "data": {
      "text/html": [
       "<div>\n",
       "<style scoped>\n",
       "    .dataframe tbody tr th:only-of-type {\n",
       "        vertical-align: middle;\n",
       "    }\n",
       "\n",
       "    .dataframe tbody tr th {\n",
       "        vertical-align: top;\n",
       "    }\n",
       "\n",
       "    .dataframe thead th {\n",
       "        text-align: right;\n",
       "    }\n",
       "</style>\n",
       "<table border=\"1\" class=\"dataframe\">\n",
       "  <thead>\n",
       "    <tr style=\"text-align: right;\">\n",
       "      <th></th>\n",
       "      <th>id</th>\n",
       "      <th>title</th>\n",
       "      <th>genre</th>\n",
       "      <th>description</th>\n",
       "      <th>length</th>\n",
       "      <th>Text_cleaning</th>\n",
       "      <th>length_Text_cleaning</th>\n",
       "    </tr>\n",
       "  </thead>\n",
       "  <tbody>\n",
       "    <tr>\n",
       "      <th>0</th>\n",
       "      <td>1</td>\n",
       "      <td>Oscar et la dame rose (2009)</td>\n",
       "      <td>drama</td>\n",
       "      <td>Listening in to a conversation between his do...</td>\n",
       "      <td>546</td>\n",
       "      <td>listening conversation doctor parents year old...</td>\n",
       "      <td>383</td>\n",
       "    </tr>\n",
       "    <tr>\n",
       "      <th>1</th>\n",
       "      <td>2</td>\n",
       "      <td>Cupid (1997)</td>\n",
       "      <td>thriller</td>\n",
       "      <td>A brother and sister with a past incestuous r...</td>\n",
       "      <td>184</td>\n",
       "      <td>brother sister past incestuous relationship cu...</td>\n",
       "      <td>119</td>\n",
       "    </tr>\n",
       "    <tr>\n",
       "      <th>2</th>\n",
       "      <td>3</td>\n",
       "      <td>Young, Wild and Wonderful (1980)</td>\n",
       "      <td>adult</td>\n",
       "      <td>As the bus empties the students for their fie...</td>\n",
       "      <td>650</td>\n",
       "      <td>bus empties students field trip museum natural...</td>\n",
       "      <td>402</td>\n",
       "    </tr>\n",
       "    <tr>\n",
       "      <th>3</th>\n",
       "      <td>4</td>\n",
       "      <td>The Secret Sin (1915)</td>\n",
       "      <td>drama</td>\n",
       "      <td>To help their unemployed father make ends mee...</td>\n",
       "      <td>1082</td>\n",
       "      <td>help unemployed father make ends meet edith tw...</td>\n",
       "      <td>745</td>\n",
       "    </tr>\n",
       "    <tr>\n",
       "      <th>4</th>\n",
       "      <td>5</td>\n",
       "      <td>The Unrecovered (2007)</td>\n",
       "      <td>drama</td>\n",
       "      <td>The film's title refers not only to the un-re...</td>\n",
       "      <td>625</td>\n",
       "      <td>films title refers recovered bodies ground zer...</td>\n",
       "      <td>402</td>\n",
       "    </tr>\n",
       "  </tbody>\n",
       "</table>\n",
       "</div>"
      ],
      "text/plain": [
       "   id                               title       genre  \\\n",
       "0   1       Oscar et la dame rose (2009)       drama    \n",
       "1   2                       Cupid (1997)    thriller    \n",
       "2   3   Young, Wild and Wonderful (1980)       adult    \n",
       "3   4              The Secret Sin (1915)       drama    \n",
       "4   5             The Unrecovered (2007)       drama    \n",
       "\n",
       "                                         description  length  \\\n",
       "0   Listening in to a conversation between his do...     546   \n",
       "1   A brother and sister with a past incestuous r...     184   \n",
       "2   As the bus empties the students for their fie...     650   \n",
       "3   To help their unemployed father make ends mee...    1082   \n",
       "4   The film's title refers not only to the un-re...     625   \n",
       "\n",
       "                                       Text_cleaning  length_Text_cleaning  \n",
       "0  listening conversation doctor parents year old...                   383  \n",
       "1  brother sister past incestuous relationship cu...                   119  \n",
       "2  bus empties students field trip museum natural...                   402  \n",
       "3  help unemployed father make ends meet edith tw...                   745  \n",
       "4  films title refers recovered bodies ground zer...                   402  "
      ]
     },
     "execution_count": 15,
     "metadata": {},
     "output_type": "execute_result"
    }
   ],
   "source": [
    "train_df['length_Text_cleaning']=train_df['Text_cleaning'].apply(len)\n",
    "train_df.head()"
   ]
  },
  {
   "cell_type": "markdown",
   "id": "930204f7",
   "metadata": {
    "papermill": {
     "duration": 0.048742,
     "end_time": "2021-12-31T22:55:44.403383",
     "exception": false,
     "start_time": "2021-12-31T22:55:44.354641",
     "status": "completed"
    },
    "tags": []
   },
   "source": [
    "# ✔️ Tokenizer"
   ]
  },
  {
   "cell_type": "code",
   "execution_count": 16,
   "id": "782389f6",
   "metadata": {
    "execution": {
     "iopub.execute_input": "2021-12-31T22:55:44.516464Z",
     "iopub.status.busy": "2021-12-31T22:55:44.511261Z",
     "iopub.status.idle": "2021-12-31T22:55:48.273447Z",
     "shell.execute_reply": "2021-12-31T22:55:48.274172Z",
     "shell.execute_reply.started": "2021-12-31T22:11:46.927074Z"
    },
    "papermill": {
     "duration": 3.837519,
     "end_time": "2021-12-31T22:55:48.274378",
     "exception": false,
     "start_time": "2021-12-31T22:55:44.436859",
     "status": "completed"
    },
    "tags": []
   },
   "outputs": [],
   "source": [
    "num_words = 50000\n",
    "max_len = 250\n",
    "tokenizer = Tokenizer(num_words=num_words, filters='!\"#$%&()*+,-./:;<=>?@[\\]^_`{|}~', lower=True)\n",
    "tokenizer.fit_on_texts(train_df['Text_cleaning'].values)"
   ]
  },
  {
   "cell_type": "code",
   "execution_count": 17,
   "id": "05896a56",
   "metadata": {
    "execution": {
     "iopub.execute_input": "2021-12-31T22:55:48.345387Z",
     "iopub.status.busy": "2021-12-31T22:55:48.344461Z",
     "iopub.status.idle": "2021-12-31T22:55:55.954399Z",
     "shell.execute_reply": "2021-12-31T22:55:55.953851Z",
     "shell.execute_reply.started": "2021-12-31T22:11:50.721229Z"
    },
    "papermill": {
     "duration": 7.646925,
     "end_time": "2021-12-31T22:55:55.954562",
     "exception": false,
     "start_time": "2021-12-31T22:55:48.307637",
     "status": "completed"
    },
    "tags": []
   },
   "outputs": [],
   "source": [
    "X = tokenizer.texts_to_sequences(train_df['Text_cleaning'].values)\n",
    "X = pad_sequences(X, maxlen=max_len)\n",
    "y = pd.get_dummies(train_df['genre']).values\n",
    "\n",
    "X_test = tokenizer.texts_to_sequences(test_df['Text_cleaning'].values)\n",
    "X_test = pad_sequences(X_test, maxlen=max_len)\n",
    "y_test = pd.get_dummies(test_df['genre']).values"
   ]
  },
  {
   "cell_type": "markdown",
   "id": "0aaa9a97",
   "metadata": {
    "papermill": {
     "duration": 0.032592,
     "end_time": "2021-12-31T22:55:56.020708",
     "exception": false,
     "start_time": "2021-12-31T22:55:55.988116",
     "status": "completed"
    },
    "tags": []
   },
   "source": [
    "# 📚 Training model"
   ]
  },
  {
   "cell_type": "code",
   "execution_count": 18,
   "id": "068f0c50",
   "metadata": {
    "execution": {
     "iopub.execute_input": "2021-12-31T22:55:56.093958Z",
     "iopub.status.busy": "2021-12-31T22:55:56.093283Z",
     "iopub.status.idle": "2021-12-31T22:55:56.436752Z",
     "shell.execute_reply": "2021-12-31T22:55:56.437251Z",
     "shell.execute_reply.started": "2021-12-31T22:11:58.249917Z"
    },
    "papermill": {
     "duration": 0.383001,
     "end_time": "2021-12-31T22:55:56.437452",
     "exception": false,
     "start_time": "2021-12-31T22:55:56.054451",
     "status": "completed"
    },
    "tags": []
   },
   "outputs": [
    {
     "name": "stderr",
     "output_type": "stream",
     "text": [
      "2021-12-31 22:55:56.106295: I tensorflow/compiler/jit/xla_cpu_device.cc:41] Not creating XLA devices, tf_xla_enable_xla_devices not set\n",
      "2021-12-31 22:55:56.109679: W tensorflow/stream_executor/platform/default/dso_loader.cc:60] Could not load dynamic library 'libcuda.so.1'; dlerror: libcuda.so.1: cannot open shared object file: No such file or directory; LD_LIBRARY_PATH: /opt/conda/lib\n",
      "2021-12-31 22:55:56.109713: W tensorflow/stream_executor/cuda/cuda_driver.cc:326] failed call to cuInit: UNKNOWN ERROR (303)\n",
      "2021-12-31 22:55:56.109742: I tensorflow/stream_executor/cuda/cuda_diagnostics.cc:156] kernel driver does not appear to be running on this host (e110b466aad5): /proc/driver/nvidia/version does not exist\n",
      "2021-12-31 22:55:56.110855: I tensorflow/core/platform/cpu_feature_guard.cc:142] This TensorFlow binary is optimized with oneAPI Deep Neural Network Library (oneDNN) to use the following CPU instructions in performance-critical operations:  AVX2 FMA\n",
      "To enable them in other operations, rebuild TensorFlow with the appropriate compiler flags.\n",
      "2021-12-31 22:55:56.111228: I tensorflow/compiler/jit/xla_gpu_device.cc:99] Not creating XLA devices, tf_xla_enable_xla_devices not set\n"
     ]
    }
   ],
   "source": [
    "EMBEDDING_DIM = 100\n",
    "model = Sequential()\n",
    "model.add(Embedding(num_words, EMBEDDING_DIM, input_length=X.shape[1]))\n",
    "model.add(SpatialDropout1D(0.2))\n",
    "model.add(LSTM(100, dropout=0.1, recurrent_dropout=0.2))\n",
    "model.add(Dense(27, activation='softmax'))\n",
    "model.compile(loss='categorical_crossentropy', optimizer='adam', metrics=['accuracy'])"
   ]
  },
  {
   "cell_type": "code",
   "execution_count": 19,
   "id": "a0e8b22e",
   "metadata": {
    "execution": {
     "iopub.execute_input": "2021-12-31T22:55:56.508204Z",
     "iopub.status.busy": "2021-12-31T22:55:56.507203Z",
     "iopub.status.idle": "2021-12-31T22:55:56.511181Z",
     "shell.execute_reply": "2021-12-31T22:55:56.511671Z",
     "shell.execute_reply.started": "2021-12-31T22:11:58.450319Z"
    },
    "papermill": {
     "duration": 0.041198,
     "end_time": "2021-12-31T22:55:56.511860",
     "exception": false,
     "start_time": "2021-12-31T22:55:56.470662",
     "status": "completed"
    },
    "tags": []
   },
   "outputs": [],
   "source": [
    "my_callbacks  = [EarlyStopping(monitor='val_loss',\n",
    "                              min_delta=0,\n",
    "                              patience=2,\n",
    "                              mode='auto')]"
   ]
  },
  {
   "cell_type": "code",
   "execution_count": 20,
   "id": "da5d4a76",
   "metadata": {
    "execution": {
     "iopub.execute_input": "2021-12-31T22:55:56.583788Z",
     "iopub.status.busy": "2021-12-31T22:55:56.583135Z",
     "iopub.status.idle": "2021-12-31T23:41:25.689378Z",
     "shell.execute_reply": "2021-12-31T23:41:25.690269Z",
     "shell.execute_reply.started": "2021-12-31T22:11:58.456724Z"
    },
    "papermill": {
     "duration": 2729.145463,
     "end_time": "2021-12-31T23:41:25.690673",
     "exception": false,
     "start_time": "2021-12-31T22:55:56.545210",
     "status": "completed"
    },
    "tags": []
   },
   "outputs": [
    {
     "name": "stderr",
     "output_type": "stream",
     "text": [
      "2021-12-31 22:55:56.681592: I tensorflow/compiler/mlir/mlir_graph_optimization_pass.cc:116] None of the MLIR optimization passes are enabled (registered 2)\n",
      "2021-12-31 22:55:56.694509: I tensorflow/core/platform/profile_utils/cpu_utils.cc:112] CPU Frequency: 2199995000 Hz\n"
     ]
    },
    {
     "name": "stdout",
     "output_type": "stream",
     "text": [
      "Epoch 1/6\n",
      "1695/1695 [==============================] - 671s 394ms/step - loss: 2.1855 - accuracy: 0.3622 - val_loss: 1.6585 - val_accuracy: 0.5152\n",
      "Epoch 2/6\n",
      "1695/1695 [==============================] - 684s 403ms/step - loss: 1.4378 - accuracy: 0.5856 - val_loss: 1.5123 - val_accuracy: 0.5620\n",
      "Epoch 3/6\n",
      "1695/1695 [==============================] - 682s 402ms/step - loss: 1.0284 - accuracy: 0.7021 - val_loss: 1.5775 - val_accuracy: 0.5549\n",
      "Epoch 4/6\n",
      "1695/1695 [==============================] - 691s 408ms/step - loss: 0.7454 - accuracy: 0.7847 - val_loss: 1.7323 - val_accuracy: 0.5542\n"
     ]
    }
   ],
   "source": [
    "history = model.fit(X, y, epochs=6, batch_size=32,validation_data=(X_test,y_test), callbacks=my_callbacks)"
   ]
  },
  {
   "cell_type": "markdown",
   "id": "21e6c596",
   "metadata": {
    "papermill": {
     "duration": 2.096411,
     "end_time": "2021-12-31T23:41:29.953825",
     "exception": false,
     "start_time": "2021-12-31T23:41:27.857414",
     "status": "completed"
    },
    "tags": []
   },
   "source": [
    "# 📈 Plotting Accuracy & Loss\n"
   ]
  },
  {
   "cell_type": "code",
   "execution_count": 21,
   "id": "7ab8e809",
   "metadata": {
    "execution": {
     "iopub.execute_input": "2021-12-31T23:41:34.163301Z",
     "iopub.status.busy": "2021-12-31T23:41:34.162515Z",
     "iopub.status.idle": "2021-12-31T23:41:34.748032Z",
     "shell.execute_reply": "2021-12-31T23:41:34.748499Z",
     "shell.execute_reply.started": "2021-12-31T22:33:52.425228Z"
    },
    "papermill": {
     "duration": 2.706907,
     "end_time": "2021-12-31T23:41:34.748698",
     "exception": false,
     "start_time": "2021-12-31T23:41:32.041791",
     "status": "completed"
    },
    "tags": []
   },
   "outputs": [
    {
     "data": {
      "image/png": "[encoded data removed]",
      "text/plain": [
       "<Figure size 432x288 with 1 Axes>"
      ]
     },
     "metadata": {},
     "output_type": "display_data"
    },
    {
     "data": {
      "image/png": "[encoded data removed]",
      "text/plain": [
       "<Figure size 432x288 with 1 Axes>"
      ]
     },
     "metadata": {},
     "output_type": "display_data"
    }
   ],
   "source": [
    "# Plotting Accuracy and val_accuracy\n",
    "plt.title('Accuracy')\n",
    "plt.plot(history.history['accuracy'], label='train')\n",
    "plt.plot(history.history['val_accuracy'], label='test')\n",
    "plt.legend()\n",
    "plt.show();\n",
    "\n",
    "# Plotting loss and val_loss\n",
    "plt.title('Loss')\n",
    "plt.plot(history.history['loss'], label='train')\n",
    "plt.plot(history.history['val_loss'], label='test')\n",
    "plt.legend()\n",
    "plt.show();"
   ]
  },
  {
   "cell_type": "markdown",
   "id": "6a9ea65a",
   "metadata": {
    "papermill": {
     "duration": 2.105883,
     "end_time": "2021-12-31T23:41:39.021670",
     "exception": false,
     "start_time": "2021-12-31T23:41:36.915787",
     "status": "completed"
    },
    "tags": []
   },
   "source": [
    "# 🧪 Test Accuracy"
   ]
  },
  {
   "cell_type": "code",
   "execution_count": 22,
   "id": "406da881",
   "metadata": {
    "execution": {
     "iopub.execute_input": "2021-12-31T23:41:43.286506Z",
     "iopub.status.busy": "2021-12-31T23:41:43.237623Z",
     "iopub.status.idle": "2021-12-31T23:42:58.615309Z",
     "shell.execute_reply": "2021-12-31T23:42:58.616064Z",
     "shell.execute_reply.started": "2021-12-31T22:33:52.932306Z"
    },
    "papermill": {
     "duration": 77.490591,
     "end_time": "2021-12-31T23:42:58.616287",
     "exception": false,
     "start_time": "2021-12-31T23:41:41.125696",
     "status": "completed"
    },
    "tags": []
   },
   "outputs": [
    {
     "name": "stdout",
     "output_type": "stream",
     "text": [
      "    Test Loss: 1.73233\n",
      "Test Accuracy: 55.42%\n"
     ]
    }
   ],
   "source": [
    "results = model.evaluate(X_test, y_test, verbose=0)\n",
    "print(\"    Test Loss: {:.5f}\".format(results[0]))\n",
    "print(\"Test Accuracy: {:.2f}%\".format(results[1] * 100))"
   ]
  },
  {
   "cell_type": "code",
   "execution_count": null,
   "id": "362b0c15",
   "metadata": {
    "papermill": {
     "duration": 2.245062,
     "end_time": "2021-12-31T23:43:02.977127",
     "exception": false,
     "start_time": "2021-12-31T23:43:00.732065",
     "status": "completed"
    },
    "tags": []
   },
   "outputs": [],
   "source": []
  },
  {
   "cell_type": "code",
   "execution_count": null,
   "id": "2bd358ba",
   "metadata": {
    "papermill": {
     "duration": 2.156864,
     "end_time": "2021-12-31T23:43:07.279380",
     "exception": false,
     "start_time": "2021-12-31T23:43:05.122516",
     "status": "completed"
    },
    "tags": []
   },
   "outputs": [],
   "source": []
  }
 ],
 "metadata": {
  "kernelspec": {
   "display_name": "Python 3",
   "language": "python",
   "name": "python3"
  },
  "language_info": {
   "codemirror_mode": {
    "name": "ipython",
    "version": 3
   },
   "file_extension": ".py",
   "mimetype": "text/x-python",
   "name": "python",
   "nbconvert_exporter": "python",
   "pygments_lexer": "ipython3",
   "version": "3.7.10"
  },
  "papermill": {
   "default_parameters": {},
   "duration": 3034.054806,
   "end_time": "2021-12-31T23:43:12.510171",
   "environment_variables": {},
   "exception": null,
   "input_path": "__notebook__.ipynb",
   "output_path": "__notebook__.ipynb",
   "parameters": {},
   "start_time": "2021-12-31T22:52:38.455365",
   "version": "2.3.3"
  }
 },
 "nbformat": 4,
 "nbformat_minor": 5
}
